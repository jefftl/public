{
 "cells": [
  {
   "cell_type": "code",
   "execution_count": 1,
   "id": "880d6df2",
   "metadata": {
    "id": "880d6df2"
   },
   "outputs": [],
   "source": [
    "import numpy as np\n",
    "from sklearn.datasets import load_diabetes\n",
    "from sklearn.kernel_ridge import KernelRidge\n",
    "from sklearn.tree import DecisionTreeRegressor\n",
    "from sklearn import preprocessing\n",
    "import pandas as pd\n",
    "import copy\n",
    "import matplotlib.pyplot as plt\n",
    "import time"
   ]
  },
  {
   "cell_type": "markdown",
   "id": "824d996d",
   "metadata": {
    "id": "824d996d"
   },
   "source": [
    "# k-fold cross validation\n",
    "\n",
    "\n",
    "In this notebook you will use K-fold cross validation to compare two regression models. The two models are Kernel Ridge Regression and Regression Decision Trees. You don't need to understand how these two models work for now and can just use the provided fit_and_predict functions to get predictions for each of the models.\n",
    "\n",
    "The aim of this notebook is to practice K-fold cross validation. It is split into 5 parts:\n",
    "1. Create a function to split the data into k folds\n",
    "2. Performance Metric - create a function to calculate RMSE\n",
    "3. Create a function to run cross validation on the k-folds\n",
    "4. Run cross validation for k={2, ..., 100}, timing each one\n",
    "5. Answer the questions in a markdown cell\n",
    "\n",
    "**NOTE: Make sure you restart the kernel and re-run the notebook just before you submit it so your answers are consistant. All the packages you need are already imported into the notebook, you should not use the sklearn k-fold cross validation functions.**\n",
    "\n"
   ]
  },
  {
   "cell_type": "markdown",
   "id": "0576c905",
   "metadata": {
    "id": "0576c905"
   },
   "source": [
    "## Data\n",
    "\n",
    "We will use a sklearn toy dataset. The input values for this dataset are ten baseline variables measured in diabetes patients and the output is a quantitative measure of disease progression one year later. You can read more about the data [here](https://scikit-learn.org/stable/datasets/toy_dataset.html#diabetes-dataset)."
   ]
  },
  {
   "cell_type": "code",
   "execution_count": 2,
   "id": "d801d79b",
   "metadata": {
    "colab": {
     "base_uri": "https://localhost:8080/"
    },
    "id": "d801d79b",
    "outputId": "bbe3bef9-5e6a-47a9-8042-b50438c6676c"
   },
   "outputs": [
    {
     "name": "stdout",
     "output_type": "stream",
     "text": [
      "(300, 1)\n",
      "        x_0       x_1       x_2       x_3       x_4       x_5       x_6  \\\n",
      "0  0.800500  1.065488  1.297088  0.459841 -0.929746 -0.732065 -0.912451   \n",
      "1 -0.039567 -0.938537 -1.082180 -0.553505 -0.177624 -0.402886  1.564414   \n",
      "2  1.793307  1.065488  0.934533 -0.119214 -0.958674 -0.718897 -0.680245   \n",
      "3 -1.872441 -0.938537 -0.243771 -0.770650  0.256292  0.525397 -0.757647   \n",
      "4  0.113172 -0.938537 -0.764944  0.459841  0.082726  0.327890  0.171178   \n",
      "\n",
      "        x_7       x_8       x_9         y  \n",
      "0 -0.054499  0.418531 -0.370989 -0.014719  \n",
      "1 -0.830301 -1.436589 -1.938479 -1.001659  \n",
      "2 -0.054499  0.060156 -0.545154 -0.144580  \n",
      "3  0.721302  0.476983 -0.196823  0.699513  \n",
      "4 -0.054499 -0.672502 -0.980568 -0.222496  \n"
     ]
    }
   ],
   "source": [
    "# Do not edit this cell\n",
    "\n",
    "X_, y_ = load_diabetes(return_X_y=True)\n",
    "\n",
    "# standardise the data to help us fit the data (this will be covered later in the course)\n",
    "\n",
    "scaler = preprocessing.StandardScaler().fit(X_)\n",
    "X = scaler.transform(X_)[:300, :]\n",
    "\n",
    "scaler_y = preprocessing.StandardScaler().fit(y_.reshape(-1, 1))\n",
    "y = scaler_y.transform(y_.reshape(-1, 1))[:300, :]\n",
    "print(y.shape)\n",
    "\n",
    "# to ensure the data stays in the correct order, we will work with dataframes\n",
    "\n",
    "columns = [f'x_{i}' for i in range(X.shape[1])] + ['y']\n",
    "x_columns = [f'x_{i}' for i in range(X.shape[1])]\n",
    "data = pd.DataFrame(data= np.concatenate([X, y.reshape(-1, 1)], axis=1), columns=columns)\n",
    "print(data.head())"
   ]
  },
  {
   "cell_type": "code",
   "execution_count": 3,
   "id": "3d2c61cc",
   "metadata": {
    "id": "3d2c61cc"
   },
   "outputs": [],
   "source": [
    "# Do not edit\n",
    "\n",
    "def fit_and_predict_KRR(train, validate):\n",
    "    \"\"\"fit a Kernel Ridge Regression Model on the training data and predict the y values of the validation X data.\n",
    "    :param train: pandas dataframe containing the training data\n",
    "    :param validate: pandas dataframe containing the validation data\n",
    "    :return: predictions at the validation X points Mx1 numpy array\"\"\"\n",
    "    X_train = train[x_columns].to_numpy()\n",
    "    y_train = train['y'].to_numpy()\n",
    "    X_val = validate[x_columns].to_numpy()\n",
    "\n",
    "    KRR = KernelRidge(alpha=0.1, kernel='rbf', gamma=0.2,  degree=100)\n",
    "    KRR.fit(X_train, y_train)\n",
    "    return KRR.predict(X_val)\n",
    "\n",
    "\n",
    "def fit_and_predict_DT(train, validate):\n",
    "    \"\"\"fit a Regression Decision Tree on the training data and predict the y values of the validation X data.\n",
    "    :param train: pandas dataframe containing the training data\n",
    "    :param validate: pandas dataframe containing the validation data\n",
    "    :return: predictions at the validation X points Mx1 numpy array\"\"\"\n",
    "\n",
    "    X_train = train[x_columns].to_numpy()\n",
    "    y_train = train['y'].to_numpy()\n",
    "    X_val = validate[x_columns].to_numpy()\n",
    "\n",
    "    DTree = DecisionTreeRegressor(max_depth=6)\n",
    "    DTree.fit(X_train, y_train)\n",
    "    return DTree.predict(X_val)\n"
   ]
  },
  {
   "cell_type": "markdown",
   "id": "5a77092a",
   "metadata": {
    "id": "5a77092a"
   },
   "source": [
    "## Part 1 : Creating the folds\n",
    "\n",
    "### TO DO:\n",
    "\n",
    "Complete the gaps to crete a function that split the data into k folds.\n",
    "\n",
    "**2 MARKS**"
   ]
  },
  {
   "cell_type": "code",
   "execution_count": 4,
   "id": "8855e2b5",
   "metadata": {
    "id": "8855e2b5"
   },
   "outputs": [],
   "source": [
    "\n",
    "def k_folds(data, k):\n",
    "    \"\"\"function that returns a list of k folds of the data. The returned value should be a list of dataframes\"\"\"\n",
    "\n",
    "    ############################\n",
    "    # FILL YOUR ANSWERS HERE. Create list of how long each fold should be. The folds should be as even as possible in number, but some may\n",
    "    # need to have an extra data point if the total number of data points isn't divisible by n\n",
    "\n",
    "    len_folds = [int(sum(x)) for x in np.array_split(np.ones(len(data)), k)]\n",
    "    ############################\n",
    "\n",
    "    folds = []\n",
    "    for i in range(k):\n",
    "        data_ss = data.sample(n=len_folds[i], random_state=20)\n",
    "        data = data.drop(data_ss.index)\n",
    "        folds.append(data_ss)\n",
    "\n",
    "    return folds"
   ]
  },
  {
   "cell_type": "code",
   "execution_count": 5,
   "id": "n__R7hmeK2p0",
   "metadata": {
    "colab": {
     "base_uri": "https://localhost:8080/"
    },
    "id": "n__R7hmeK2p0",
    "outputId": "df02434c-752c-4145-cbbd-854fb29258f4"
   },
   "outputs": [
    {
     "data": {
      "text/plain": [
       "[array([1., 1., 1., 1., 1., 1., 1., 1., 1., 1., 1., 1., 1., 1., 1., 1., 1.,\n",
       "        1., 1., 1., 1., 1., 1., 1., 1., 1., 1., 1., 1., 1., 1., 1., 1., 1.,\n",
       "        1., 1., 1., 1., 1., 1., 1., 1., 1.]),\n",
       " array([1., 1., 1., 1., 1., 1., 1., 1., 1., 1., 1., 1., 1., 1., 1., 1., 1.,\n",
       "        1., 1., 1., 1., 1., 1., 1., 1., 1., 1., 1., 1., 1., 1., 1., 1., 1.,\n",
       "        1., 1., 1., 1., 1., 1., 1., 1., 1.]),\n",
       " array([1., 1., 1., 1., 1., 1., 1., 1., 1., 1., 1., 1., 1., 1., 1., 1., 1.,\n",
       "        1., 1., 1., 1., 1., 1., 1., 1., 1., 1., 1., 1., 1., 1., 1., 1., 1.,\n",
       "        1., 1., 1., 1., 1., 1., 1., 1., 1.]),\n",
       " array([1., 1., 1., 1., 1., 1., 1., 1., 1., 1., 1., 1., 1., 1., 1., 1., 1.,\n",
       "        1., 1., 1., 1., 1., 1., 1., 1., 1., 1., 1., 1., 1., 1., 1., 1., 1.,\n",
       "        1., 1., 1., 1., 1., 1., 1., 1., 1.]),\n",
       " array([1., 1., 1., 1., 1., 1., 1., 1., 1., 1., 1., 1., 1., 1., 1., 1., 1.,\n",
       "        1., 1., 1., 1., 1., 1., 1., 1., 1., 1., 1., 1., 1., 1., 1., 1., 1.,\n",
       "        1., 1., 1., 1., 1., 1., 1., 1., 1.]),\n",
       " array([1., 1., 1., 1., 1., 1., 1., 1., 1., 1., 1., 1., 1., 1., 1., 1., 1.,\n",
       "        1., 1., 1., 1., 1., 1., 1., 1., 1., 1., 1., 1., 1., 1., 1., 1., 1.,\n",
       "        1., 1., 1., 1., 1., 1., 1., 1., 1.]),\n",
       " array([1., 1., 1., 1., 1., 1., 1., 1., 1., 1., 1., 1., 1., 1., 1., 1., 1.,\n",
       "        1., 1., 1., 1., 1., 1., 1., 1., 1., 1., 1., 1., 1., 1., 1., 1., 1.,\n",
       "        1., 1., 1., 1., 1., 1., 1., 1.])]"
      ]
     },
     "execution_count": 5,
     "metadata": {},
     "output_type": "execute_result"
    }
   ],
   "source": [
    "len(data)\n",
    "len_folds = [int(sum(x)) for x in np.array_split(np.ones(len(data)), 7)]\n",
    "len_folds\n",
    "np.array_split(np.ones(len(data)), 7)"
   ]
  },
  {
   "cell_type": "markdown",
   "id": "3da640be",
   "metadata": {
    "id": "3da640be"
   },
   "source": [
    "## Part 2:  Performance Metric\n",
    "\n",
    "### TO DO:\n",
    "Write a function that calculates the root mean squared error between predictions and the true y values. Both inputs should be numpy arrays and the function should return a float.\n",
    "\n",
    "**1 MARK**"
   ]
  },
  {
   "cell_type": "code",
   "execution_count": 6,
   "id": "c9fea12c",
   "metadata": {
    "colab": {
     "base_uri": "https://localhost:8080/"
    },
    "id": "c9fea12c",
    "outputId": "77ba925a-23f2-40bb-ad71-f54860417f5b"
   },
   "outputs": [
    {
     "data": {
      "text/plain": [
       "1.1509999999999994"
      ]
     },
     "execution_count": 6,
     "metadata": {},
     "output_type": "execute_result"
    }
   ],
   "source": [
    "############################\n",
    "# Write function to calculate RMSE\n",
    "def RMSE(predicticted_y, true_y):\n",
    "    \"\"\"function that calculates the root mean squared error between the predictions and the true y values\"\"\"\n",
    "    rmse_test = np.sqrt(np.mean(np.square(predicticted_y - true_y)))\n",
    "    return rmse_test\n",
    "RMSE(4.512,3.361)\n",
    "############################"
   ]
  },
  {
   "cell_type": "markdown",
   "id": "3127862b",
   "metadata": {
    "id": "3127862b"
   },
   "source": [
    "## Part 3: Cross Valiation\n",
    "\n",
    "### TO DO:\n",
    "\n",
    "Create a function to run the cross validation on both the models by filling out the gaps in the function below. This function will return the average RMSE for each of the models.\n",
    "\n",
    "**6 MARKS**\n"
   ]
  },
  {
   "cell_type": "code",
   "execution_count": 7,
   "id": "896eb1d5",
   "metadata": {
    "id": "896eb1d5"
   },
   "outputs": [],
   "source": [
    "def cross_validation(folds):\n",
    "    \"\"\"function that runs cross validation on k folds and returns the RMSE for each model\"\"\"\n",
    "    folds = copy.copy(folds) # this creates a new variable which is a copy of folds\n",
    "\n",
    "    rmses_KRR = []  # list to collect the rmses for each fold for the Kernel Ridge Regression\n",
    "    rmses_DT = []   # list to collect the rmses for each fold for the Decision Tree\n",
    "    for i, fold in enumerate(folds):\n",
    "\n",
    "        ############################\n",
    "        # Write code to create the training and validation sets as DataFrames\n",
    "        train = pd.concat(folds[:i] + folds[(i+1):], axis=0)\n",
    "        validate = fold\n",
    "        ############################\n",
    "\n",
    "        ############################\n",
    "        # Use the fit_and_predict functions to create new columns in the validation set for the predictions\n",
    "        # for each model with headings ['KRR_predictions', 'DT_predictions'].\n",
    "        validate['KRR_predictions'] = fit_and_predict_KRR(train, validate)\n",
    "        validate['DT_predictions'] = fit_and_predict_DT(train, validate)\n",
    "        ############################\n",
    "\n",
    "\n",
    "        # Check the types and values of predictions before calculating RMSE\n",
    "        #print(\"Type of KRR_predictions:\", type(validate['KRR_predictions'].iloc[0]))\n",
    "        #print(\"Sample KRR_predictions:\", validate['KRR_predictions'].head())\n",
    "        #print(\"Type of y:\", type(validate['y'].iloc[0]))\n",
    "        #print(\"Sample y:\", validate['y'].head())\n",
    "        ############################\n",
    "\n",
    "        ############################\n",
    "        # calculate the rmse for the two models and append to rmses_KRR and rmses_DT\n",
    "        rmses_KRR.append(RMSE(validate['KRR_predictions'].to_numpy(), validate['y'].to_numpy()))\n",
    "        rmses_DT.append(RMSE(validate['DT_predictions'].to_numpy(), validate['y'].to_numpy()))\n",
    "\n",
    "\n",
    "        ############################\n",
    "\n",
    "    RMSE_KRR = np.mean(rmses_KRR) # calculate the average RMSEs for kernel ridge regression\n",
    "    RMSE_DT = np.mean(rmses_DT)# calculate the average RMSEs for the decision tree\n",
    "    return RMSE_KRR, RMSE_DT\n"
   ]
  },
  {
   "cell_type": "markdown",
   "id": "3b0461fd",
   "metadata": {
    "id": "3b0461fd"
   },
   "source": [
    "### TO DO:\n",
    "Use your functions to calculate the RMSE for each model for k=100 and print the solutions\n",
    "\n",
    "**2 MARKS**"
   ]
  },
  {
   "cell_type": "code",
   "execution_count": 8,
   "id": "90abea7c",
   "metadata": {
    "colab": {
     "base_uri": "https://localhost:8080/"
    },
    "id": "90abea7c",
    "outputId": "331aa38a-4a36-4027-feb2-ebca763c3997"
   },
   "outputs": [
    {
     "name": "stdout",
     "output_type": "stream",
     "text": [
      "RMSE_KRR = 0.7953413904964529\n",
      "RMSE_DT = 0.7819871558771642\n"
     ]
    }
   ],
   "source": [
    "############################\n",
    "# calculate RMSE for each model for k=100\n",
    "k=100\n",
    "folds = k_folds(data, k)\n",
    "#print(folds)\n",
    "RMSE_KRR, RMSE_DT = cross_validation(folds)\n",
    "print(f'RMSE_KRR = {RMSE_KRR}')\n",
    "print(f'RMSE_DT = {RMSE_DT}')\n",
    "############################"
   ]
  },
  {
   "cell_type": "markdown",
   "id": "6f749dfb",
   "metadata": {
    "id": "6f749dfb"
   },
   "source": [
    "## Part 4: Cross Validation for Different Values of k\n",
    "\n",
    "### TO DO:\n",
    "\n",
    "for k in {2, ..., 100} divide the data into k folds and then run cross validation. Save the results for each run in two lists (one for each model) and then plot a graph of k on the x-axis and RMSE on the y_axis.\n",
    "\n",
    "Use the time function (example in cell below) to time how long the cross validation takes for each value of k. Make a plot of the time against the value of k.\n",
    "\n",
    "**6 MARKS**"
   ]
  },
  {
   "cell_type": "code",
   "execution_count": 9,
   "id": "4136f2e8",
   "metadata": {
    "colab": {
     "base_uri": "https://localhost:8080/"
    },
    "id": "4136f2e8",
    "outputId": "404f4dac-aec9-427b-81ca-73d0383a07e2",
    "scrolled": true
   },
   "outputs": [
    {
     "name": "stdout",
     "output_type": "stream",
     "text": [
      "hello\n",
      "0.0011627674102783203\n"
     ]
    }
   ],
   "source": [
    "# time function example\n",
    "\n",
    "start = time.time()\n",
    "print('hello')\n",
    "end = time.time()\n",
    "time_elapsed = end - start\n",
    "print(time_elapsed)"
   ]
  },
  {
   "cell_type": "code",
   "execution_count": 10,
   "id": "ad55cb86",
   "metadata": {
    "colab": {
     "base_uri": "https://localhost:8080/",
     "height": 927
    },
    "id": "ad55cb86",
    "outputId": "56017f97-fdf1-49da-895e-99e59b48332c",
    "scrolled": true
   },
   "outputs": [
    {
     "data": {
      "image/png": "[encoded data removed]",
      "text/plain": [
       "<Figure size 640x480 with 1 Axes>"
      ]
     },
     "metadata": {},
     "output_type": "display_data"
    },
    {
     "data": {
      "image/png": "[encoded data removed]",
      "text/plain": [
       "<Figure size 640x480 with 1 Axes>"
      ]
     },
     "metadata": {},
     "output_type": "display_data"
    }
   ],
   "source": [
    "############################\n",
    "# for k in {2, ..., 100} divide the data into k folds and then run cross validation. time it and plot results.\n",
    "KRR = []\n",
    "DT = []\n",
    "time_elapsed_list = []\n",
    "for k in range(2, 101):\n",
    "  #print(k)\n",
    "  start = time.time()\n",
    "  folds = k_folds(data, k)\n",
    "  RMSE_KRR, RMSE_DT = cross_validation(folds)\n",
    "  #print(f'RMSE_KRR = {RMSE_KRR}')\n",
    "  #print(f'RMSE_DT = {RMSE_DT}')\n",
    "  end = time.time()\n",
    "  time_elapsed = end - start\n",
    "  KRR.append(RMSE_KRR)\n",
    "  DT.append(RMSE_DT)\n",
    "  time_elapsed_list.append(time_elapsed)\n",
    "  #print(f'The time elapsed is {time_elapsed}')\n",
    "\n",
    "plt.plot(range(2, 101), KRR, label='KRR')\n",
    "plt.plot(range(2, 101), DT, label='DT')\n",
    "plt.legend()\n",
    "plt.title('RMSE vs k')\n",
    "plt.xlabel('k')\n",
    "plt.ylabel('RMSE')\n",
    "\n",
    "plt.show()\n",
    "\n",
    "plt.plot(range(2, 101), time_elapsed_list, label='Time')\n",
    "plt.legend()\n",
    "plt.title('Time vs k')\n",
    "plt.xlabel('k')\n",
    "plt.ylabel('Time')\n",
    "plt.show()\n",
    "\n",
    "############################'"
   ]
  },
  {
   "cell_type": "markdown",
   "id": "9e2cf2f8",
   "metadata": {
    "id": "9e2cf2f8"
   },
   "source": [
    "## Part 5 : Questions\n",
    "\n",
    "### TO DO:\n",
    "Answer the following questions in a markdown cell\n",
    "\n",
    "1. Which model would you select based on your cross validation results? Why?\n",
    "2. Looking at the two plots you made, what are the benefits and drawbacks of increasing k?\n",
    "\n",
    "**2 MARKS**"
   ]
  },
  {
   "cell_type": "markdown",
   "id": "882ef61e",
   "metadata": {
    "id": "882ef61e"
   },
   "source": [
    "### WRITE YOUR ANSWERS HERE:\n",
    "\n",
    "1. I would choose any k over 80. For this particular example we want the highest accuracy as we are dealing with diabetes patients. 80 is the point where the grapgh starts to level out.\n",
    "2. Increasing K increases the processing time. This may not be ideal in certain cases"
   ]
  },
  {
   "cell_type": "code",
   "execution_count": null,
   "id": "c0bc09b4",
   "metadata": {
    "id": "c0bc09b4"
   },
   "outputs": [],
   "source": []
  },
  {
   "cell_type": "code",
   "execution_count": null,
   "id": "04e246ac",
   "metadata": {
    "id": "04e246ac"
   },
   "outputs": [],
   "source": []
  }
 ],
 "metadata": {
  "colab": {
   "provenance": []
  },
  "kernelspec": {
   "display_name": "Python 3 (ipykernel)",
   "language": "python",
   "name": "python3"
  },
  "language_info": {
   "codemirror_mode": {
    "name": "ipython",
    "version": 3
   },
   "file_extension": ".py",
   "mimetype": "text/x-python",
   "name": "python",
   "nbconvert_exporter": "python",
   "pygments_lexer": "ipython3",
   "version": "3.11.7"
  }
 },
 "nbformat": 4,
 "nbformat_minor": 5
}
